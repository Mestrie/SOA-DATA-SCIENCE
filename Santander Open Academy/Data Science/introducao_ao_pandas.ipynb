{
 "cells": [
  {
   "cell_type": "code",
   "execution_count": 2,
   "metadata": {},
   "outputs": [],
   "source": [
    "import pandas as pd"
   ]
  },
  {
   "cell_type": "code",
   "execution_count": 6,
   "metadata": {},
   "outputs": [
    {
     "name": "stdout",
     "output_type": "stream",
     "text": [
      "12\n"
     ]
    }
   ],
   "source": [
    "lista = [ 12, 13, 45, 65, 26, 36]\n",
    "serie_pandas = pd.Series(lista)\n",
    "print(serie_pandas[0])"
   ]
  },
  {
   "cell_type": "code",
   "execution_count": 12,
   "metadata": {},
   "outputs": [
    {
     "name": "stdout",
     "output_type": "stream",
     "text": [
      "8.0\n",
      "8.733333333333333\n",
      "8.7\n",
      "count    3.000000\n",
      "mean     8.733333\n",
      "std      0.750555\n",
      "min      8.000000\n",
      "25%      8.350000\n",
      "50%      8.700000\n",
      "75%      9.100000\n",
      "max      9.500000\n",
      "dtype: float64\n"
     ]
    }
   ],
   "source": [
    "notas = {'Tiago' :8, 'Guilherme': 9.5, 'Juca': 8.7}\n",
    "serie_notas = pd.Series(notas)\n",
    "print(serie_notas['Tiago'])\n",
    "print(serie_notas.mean())\n",
    "print(serie_notas.median())\n",
    "print(serie_notas.describe())"
   ]
  },
  {
   "cell_type": "code",
   "execution_count": null,
   "metadata": {},
   "outputs": [],
   "source": [
    "df= pd.read_excel(\"Arquivo Excel\")\n"
   ]
  },
  {
   "cell_type": "code",
   "execution_count": null,
   "metadata": {},
   "outputs": [],
   "source": [
    "auxiliar = df.loc[1000]\n",
    "def limpar_preço(lina):\n",
    "    linha[\"price\"] = linha['price'].replace('R$', '')\n",
    "    linha[\"price\"] = linha['price'].replace('\\n', '')\n",
    "    linha[\"price\"] = linha['price'].replace('\\Mês', '')\n",
    "    linha[\"price\"] = linha['price'].replace('                         ', '')\n",
    "    return linha"
   ]
  },
  {
   "cell_type": "code",
   "execution_count": null,
   "metadata": {},
   "outputs": [],
   "source": [
    "df.apply(lambda x: limpar_preço(x), axis = 1)\n"
   ]
  },
  {
   "cell_type": "code",
   "execution_count": null,
   "metadata": {},
   "outputs": [],
   "source": [
    "def ajustar_alugueis(linha):\n",
    "    linha['price'] = linha['price'].replace('.','')\n",
    "    preco = int(linha['price'])\n",
    "    if preco <= 10000:\n",
    "        preco = preco*200\n",
    "    linha['price'] = preco\n",
    "    return linha"
   ]
  },
  {
   "cell_type": "code",
   "execution_count": null,
   "metadata": {},
   "outputs": [],
   "source": [
    "df.apply(lambda x: ajustar_alugueis(x), axis=1)"
   ]
  }
 ],
 "metadata": {
  "kernelspec": {
   "display_name": "Python 3",
   "language": "python",
   "name": "python3"
  },
  "language_info": {
   "codemirror_mode": {
    "name": "ipython",
    "version": 3
   },
   "file_extension": ".py",
   "mimetype": "text/x-python",
   "name": "python",
   "nbconvert_exporter": "python",
   "pygments_lexer": "ipython3",
   "version": "3.12.3"
  }
 },
 "nbformat": 4,
 "nbformat_minor": 2
}
