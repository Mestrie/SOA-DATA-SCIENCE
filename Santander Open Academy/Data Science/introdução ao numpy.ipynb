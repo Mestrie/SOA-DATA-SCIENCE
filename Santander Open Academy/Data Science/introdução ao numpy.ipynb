{
 "cells": [
  {
   "cell_type": "code",
   "execution_count": 2,
   "metadata": {},
   "outputs": [],
   "source": [
    "import numpy as np"
   ]
  },
  {
   "cell_type": "code",
   "execution_count": 5,
   "metadata": {},
   "outputs": [
    {
     "name": "stdout",
     "output_type": "stream",
     "text": [
      "[1 2 3 4 5 6]\n",
      "[1, 2, 3, 4, 5, 6]\n",
      "<class 'type'>\n",
      "<class 'numpy.ndarray'>\n"
     ]
    }
   ],
   "source": [
    "lista = [1,2,3,4,5,6]\n",
    "array = np.array(lista)\n",
    "print(array)\n",
    "print(lista)\n",
    "print(type(list))\n",
    "print(type(array))"
   ]
  },
  {
   "cell_type": "code",
   "execution_count": 7,
   "metadata": {},
   "outputs": [
    {
     "name": "stdout",
     "output_type": "stream",
     "text": [
      "[0. 0. 0. 0. 0. 0. 0. 0. 0. 0.]\n"
     ]
    }
   ],
   "source": [
    "arr_zeros= np.zeros(10)\n",
    "print(arr_zeros)"
   ]
  },
  {
   "cell_type": "code",
   "execution_count": 8,
   "metadata": {},
   "outputs": [
    {
     "name": "stdout",
     "output_type": "stream",
     "text": [
      "[9 2 3 4 5 6]\n"
     ]
    }
   ],
   "source": [
    "array[0]=9\n",
    "print(array)"
   ]
  },
  {
   "cell_type": "code",
   "execution_count": 10,
   "metadata": {},
   "outputs": [
    {
     "name": "stdout",
     "output_type": "stream",
     "text": [
      "[[0. 0. 0.]\n",
      " [0. 0. 0.]\n",
      " [0. 0. 0.]\n",
      " [0. 0. 0.]\n",
      " [0. 0. 0.]]\n"
     ]
    }
   ],
   "source": [
    "#AMtrizes#\n",
    "matrizes_zeros = np.zeros((5,3))\n",
    "print(matrizes_zeros)"
   ]
  },
  {
   "cell_type": "code",
   "execution_count": 20,
   "metadata": {},
   "outputs": [
    {
     "name": "stdout",
     "output_type": "stream",
     "text": [
      "Maximo: 9.8\n",
      "Minimo: 5.6\n",
      "Desvio Padrão: 1.5628179676469045\n",
      "Média: 7.76\n",
      "Posião do Menor: 1\n",
      "Posião do Menor: 0\n"
     ]
    }
   ],
   "source": [
    "#Notas de Alunos#\n",
    "lista_notas = [9.8, 5.6, 7.8, 9.1, 6.5]\n",
    "notas = np.array(lista_notas)\n",
    "print('Maximo:', notas.max())\n",
    "print('Minimo:', notas.min())\n",
    "print('Desvio Padrão:', notas.std())\n",
    "print('Média:' , notas.mean())\n",
    "print('Posião do Menor:', notas.argmin())\n",
    "print('Posião do Menor:', notas.argmax())"
   ]
  },
  {
   "cell_type": "markdown",
   "metadata": {},
   "source": [
    "Mascara Boleana"
   ]
  },
  {
   "cell_type": "code",
   "execution_count": 4,
   "metadata": {},
   "outputs": [
    {
     "name": "stdout",
     "output_type": "stream",
     "text": [
      "[ True False False  True  True False]\n",
      "['C19' 'no' 'no' 'C19' 'C19' 'no']\n"
     ]
    }
   ],
   "source": [
    "covid_positive = np.array(['yes', 'no', 'no', 'yes', 'yes', 'no'])\n",
    "mask = (covid_positive == 'yes')\n",
    "print(mask)\n",
    "covid_positive[mask] = 'C19'\n",
    "print(covid_positive)"
   ]
  },
  {
   "cell_type": "code",
   "execution_count": 9,
   "metadata": {},
   "outputs": [
    {
     "name": "stdout",
     "output_type": "stream",
     "text": [
      "[ True False  True  True False]\n"
     ]
    }
   ],
   "source": [
    "notas = np.array([9.8, 5.6, 7.8, 9.1, 6.5])\n",
    "mask_notas = notas >= 7\n",
    "print(mask_notas)"
   ]
  }
 ],
 "metadata": {
  "kernelspec": {
   "display_name": "Python 3",
   "language": "python",
   "name": "python3"
  },
  "language_info": {
   "codemirror_mode": {
    "name": "ipython",
    "version": 3
   },
   "file_extension": ".py",
   "mimetype": "text/x-python",
   "name": "python",
   "nbconvert_exporter": "python",
   "pygments_lexer": "ipython3",
   "version": "3.12.3"
  }
 },
 "nbformat": 4,
 "nbformat_minor": 2
}
